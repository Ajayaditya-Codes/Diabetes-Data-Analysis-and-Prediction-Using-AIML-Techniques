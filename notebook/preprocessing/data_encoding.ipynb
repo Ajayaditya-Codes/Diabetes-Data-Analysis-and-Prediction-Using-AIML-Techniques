{
 "cells": [
  {
   "cell_type": "code",
   "execution_count": 1,
   "metadata": {},
   "outputs": [],
   "source": [
    "import pandas as pd"
   ]
  },
  {
   "cell_type": "code",
   "execution_count": 2,
   "metadata": {},
   "outputs": [],
   "source": [
    "#import dataframe\n",
    "df = pd.read_csv(\"../../data/cleaned_dataset.csv\")"
   ]
  },
  {
   "cell_type": "code",
   "execution_count": null,
   "metadata": {},
   "outputs": [],
   "source": [
    "df.info()"
   ]
  },
  {
   "cell_type": "code",
   "execution_count": null,
   "metadata": {},
   "outputs": [],
   "source": [
    "#unique values of all features\n",
    "df.apply(pd.Series.unique)"
   ]
  },
  {
   "cell_type": "code",
   "execution_count": 5,
   "metadata": {},
   "outputs": [],
   "source": [
    "mapping = {\"NO\": 0, \"<30\": 1, \">30\": 1}\n",
    "df[\"readmitted\"] = df[\"readmitted\"].map(mapping)"
   ]
  },
  {
   "cell_type": "code",
   "execution_count": 6,
   "metadata": {},
   "outputs": [],
   "source": [
    "#one hot encoding\n",
    "df = pd.get_dummies(df, columns=[\"race\", \"age\", \"gender\"])\n",
    "df.rename(columns={\"gender_Unknown/Invalid\": \"gender_other\"}, inplace=True)"
   ]
  },
  {
   "cell_type": "code",
   "execution_count": 7,
   "metadata": {},
   "outputs": [],
   "source": [
    "dosage_mapping = {\"No\": 0, \"Down\": 0.33, \"Steady\": 0.66, \"Up\": 1}\n",
    "drug_presc_columns = [\n",
    "    \"metformin\",\n",
    "    \"repaglinide\",\n",
    "    \"nateglinide\",\n",
    "    \"chlorpropamide\",\n",
    "    \"glimepiride\",\n",
    "    \"glipizide\",\n",
    "    \"glyburide\",\n",
    "    \"pioglitazone\",\n",
    "    \"rosiglitazone\",\n",
    "    \"acarbose\",\n",
    "    \"miglitol\",\n",
    "    \"tolazamide\",\n",
    "    \"insulin\",\n",
    "    \"glyburide-metformin\",\n",
    "]\n",
    "\n",
    "for column in drug_presc_columns:\n",
    "    df[column] = df[column].map(dosage_mapping)\n",
    "\n",
    "#has no as only value\n",
    "df.drop(columns=[\"examide\", \"citoglipton\"], inplace=True)"
   ]
  },
  {
   "cell_type": "code",
   "execution_count": 8,
   "metadata": {},
   "outputs": [],
   "source": [
    "dosage_mapping = {\"No\": 0, \"Steady\": 1}\n",
    "drug_presc_columns = [\n",
    "    \"glipizide-metformin\",\n",
    "    \"glimepiride-pioglitazone\",\n",
    "    \"metformin-rosiglitazone\",\n",
    "    \"metformin-pioglitazone\",\n",
    "    \"troglitazone\",\n",
    "    \"acetohexamide\",\n",
    "    \"tolbutamide\",\n",
    "]\n",
    "\n",
    "for column in drug_presc_columns:\n",
    "    df[column] = df[column].map(dosage_mapping)"
   ]
  },
  {
   "cell_type": "code",
   "execution_count": 9,
   "metadata": {},
   "outputs": [],
   "source": [
    "df[\"diabetesMed\"] = df[\"diabetesMed\"].apply(lambda x: x == \"Yes\")\n",
    "df[\"change\"] = df[\"change\"].apply(lambda x: x == \"Ch\")"
   ]
  },
  {
   "cell_type": "code",
   "execution_count": 10,
   "metadata": {},
   "outputs": [],
   "source": [
    "mapping = {}\n",
    "\n",
    "specialty_list = df.apply(pd.Series.unique)[\"medical_specialty\"]\n",
    "for i in range(len(specialty_list)):\n",
    "    mapping[specialty_list[i]] = i\n",
    "\n",
    "df[\"medical_specialty\"] = df[\"medical_specialty\"].map(mapping)"
   ]
  },
  {
   "cell_type": "code",
   "execution_count": 11,
   "metadata": {},
   "outputs": [],
   "source": [
    "mapping = {}\n",
    "\n",
    "diag1 = df.apply(pd.Series.unique)[\"diag_1\"]\n",
    "for i in range(len(diag1)):\n",
    "    mapping[diag1[i]] = i\n",
    "\n",
    "df[\"diag_1\"] = df[\"diag_1\"].map(mapping)"
   ]
  },
  {
   "cell_type": "code",
   "execution_count": 12,
   "metadata": {},
   "outputs": [],
   "source": [
    "mapping = {}\n",
    "\n",
    "diag2 = df.apply(pd.Series.unique)[\"diag_2\"]\n",
    "for i in range(len(diag2)):\n",
    "    mapping[diag2[i]] = i\n",
    "\n",
    "df[\"diag_2\"] = df[\"diag_2\"].map(mapping)"
   ]
  },
  {
   "cell_type": "code",
   "execution_count": 13,
   "metadata": {},
   "outputs": [],
   "source": [
    "mapping = {}\n",
    "\n",
    "diag3 = df.apply(pd.Series.unique)[\"diag_3\"]\n",
    "for i in range(len(diag3)):\n",
    "    mapping[diag3[i]] = i\n",
    "\n",
    "df[\"diag_3\"] = df[\"diag_3\"].map(mapping)"
   ]
  },
  {
   "cell_type": "code",
   "execution_count": null,
   "metadata": {},
   "outputs": [],
   "source": [
    "df.info()"
   ]
  },
  {
   "cell_type": "code",
   "execution_count": null,
   "metadata": {},
   "outputs": [],
   "source": [
    "df.apply(pd.Series.unique)"
   ]
  },
  {
   "cell_type": "code",
   "execution_count": 16,
   "metadata": {},
   "outputs": [],
   "source": [
    "#export as csv\n",
    "df.to_csv(\"../../data/encoded_dataset.csv\", index=False)"
   ]
  }
 ],
 "metadata": {
  "kernelspec": {
   "display_name": "Python 3",
   "language": "python",
   "name": "python3"
  },
  "language_info": {
   "codemirror_mode": {
    "name": "ipython",
    "version": 3
   },
   "file_extension": ".py",
   "mimetype": "text/x-python",
   "name": "python",
   "nbconvert_exporter": "python",
   "pygments_lexer": "ipython3",
   "version": "3.10.12"
  }
 },
 "nbformat": 4,
 "nbformat_minor": 2
}
